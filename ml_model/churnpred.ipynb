{
 "cells": [
  {
   "cell_type": "code",
   "execution_count": 1,
   "metadata": {
    "execution": {
     "iopub.execute_input": "2021-05-25T17:24:59.746017Z",
     "iopub.status.busy": "2021-05-25T17:24:59.745646Z",
     "iopub.status.idle": "2021-05-25T17:25:06.758717Z",
     "shell.execute_reply": "2021-05-25T17:25:06.757737Z",
     "shell.execute_reply.started": "2021-05-25T17:24:59.745981Z"
    }
   },
   "outputs": [],
   "source": [
    "import nltk\n",
    "from nltk.corpus import stopwords\n",
    "from nltk import PorterStemmer,WordNetLemmatizer\n",
    "import pandas as pd\n",
    "import numpy as np \n",
    "import tensorflow as tf\n",
    "import matplotlib.pyplot as plt\n",
    "import re\n",
    "from pandas import read_csv\n",
    "from pandas.plotting import scatter_matrix\n",
    "from matplotlib import pyplot\n",
    "from sklearn.model_selection import train_test_split\n",
    "from sklearn.model_selection import cross_val_score\n",
    "from sklearn.model_selection import StratifiedKFold\n",
    "from sklearn.metrics import classification_report\n",
    "from sklearn.metrics import confusion_matrix\n",
    "from sklearn.metrics import accuracy_score\n",
    "from sklearn.linear_model import LogisticRegression\n",
    "from sklearn.tree import DecisionTreeClassifier\n",
    "from sklearn.neighbors import KNeighborsClassifier\n",
    "from sklearn.discriminant_analysis import LinearDiscriminantAnalysis\n",
    "from sklearn.naive_bayes import GaussianNB\n",
    "from sklearn.svm import SVC\n"
   ]
  },
  {
   "cell_type": "code",
   "execution_count": 3,
   "metadata": {
    "execution": {
     "iopub.execute_input": "2021-05-25T17:25:06.760490Z",
     "iopub.status.busy": "2021-05-25T17:25:06.760192Z",
     "iopub.status.idle": "2021-05-25T17:25:06.962350Z",
     "shell.execute_reply": "2021-05-25T17:25:06.961518Z",
     "shell.execute_reply.started": "2021-05-25T17:25:06.760462Z"
    }
   },
   "outputs": [],
   "source": [
    "df = pd.read_csv('churn_prediction.csv')"
   ]
  },
  {
   "cell_type": "code",
   "execution_count": 4,
   "metadata": {
    "execution": {
     "iopub.execute_input": "2021-05-25T17:25:06.963969Z",
     "iopub.status.busy": "2021-05-25T17:25:06.963708Z",
     "iopub.status.idle": "2021-05-25T17:25:07.012493Z",
     "shell.execute_reply": "2021-05-25T17:25:07.011778Z",
     "shell.execute_reply.started": "2021-05-25T17:25:06.963944Z"
    }
   },
   "outputs": [
    {
     "data": {
      "text/html": [
       "<div>\n",
       "<style scoped>\n",
       "    .dataframe tbody tr th:only-of-type {\n",
       "        vertical-align: middle;\n",
       "    }\n",
       "\n",
       "    .dataframe tbody tr th {\n",
       "        vertical-align: top;\n",
       "    }\n",
       "\n",
       "    .dataframe thead th {\n",
       "        text-align: right;\n",
       "    }\n",
       "</style>\n",
       "<table border=\"1\" class=\"dataframe\">\n",
       "  <thead>\n",
       "    <tr style=\"text-align: right;\">\n",
       "      <th></th>\n",
       "      <th>customer_id</th>\n",
       "      <th>vintage</th>\n",
       "      <th>age</th>\n",
       "      <th>gender</th>\n",
       "      <th>dependents</th>\n",
       "      <th>occupation</th>\n",
       "      <th>city</th>\n",
       "      <th>customer_nw_category</th>\n",
       "      <th>branch_code</th>\n",
       "      <th>days_since_last_transaction</th>\n",
       "      <th>...</th>\n",
       "      <th>previous_month_end_balance</th>\n",
       "      <th>average_monthly_balance_prevQ</th>\n",
       "      <th>average_monthly_balance_prevQ2</th>\n",
       "      <th>current_month_credit</th>\n",
       "      <th>previous_month_credit</th>\n",
       "      <th>current_month_debit</th>\n",
       "      <th>previous_month_debit</th>\n",
       "      <th>current_month_balance</th>\n",
       "      <th>previous_month_balance</th>\n",
       "      <th>churn</th>\n",
       "    </tr>\n",
       "  </thead>\n",
       "  <tbody>\n",
       "    <tr>\n",
       "      <th>0</th>\n",
       "      <td>1</td>\n",
       "      <td>3135</td>\n",
       "      <td>66</td>\n",
       "      <td>Male</td>\n",
       "      <td>0.0</td>\n",
       "      <td>self_employed</td>\n",
       "      <td>187.0</td>\n",
       "      <td>2</td>\n",
       "      <td>755</td>\n",
       "      <td>224.0</td>\n",
       "      <td>...</td>\n",
       "      <td>1458.71</td>\n",
       "      <td>1458.71</td>\n",
       "      <td>1449.07</td>\n",
       "      <td>0.20</td>\n",
       "      <td>0.20</td>\n",
       "      <td>0.20</td>\n",
       "      <td>0.20</td>\n",
       "      <td>1458.71</td>\n",
       "      <td>1458.71</td>\n",
       "      <td>0</td>\n",
       "    </tr>\n",
       "    <tr>\n",
       "      <th>1</th>\n",
       "      <td>2</td>\n",
       "      <td>310</td>\n",
       "      <td>35</td>\n",
       "      <td>Male</td>\n",
       "      <td>0.0</td>\n",
       "      <td>self_employed</td>\n",
       "      <td>NaN</td>\n",
       "      <td>2</td>\n",
       "      <td>3214</td>\n",
       "      <td>60.0</td>\n",
       "      <td>...</td>\n",
       "      <td>8704.66</td>\n",
       "      <td>7799.26</td>\n",
       "      <td>12419.41</td>\n",
       "      <td>0.56</td>\n",
       "      <td>0.56</td>\n",
       "      <td>5486.27</td>\n",
       "      <td>100.56</td>\n",
       "      <td>6496.78</td>\n",
       "      <td>8787.61</td>\n",
       "      <td>0</td>\n",
       "    </tr>\n",
       "    <tr>\n",
       "      <th>2</th>\n",
       "      <td>4</td>\n",
       "      <td>2356</td>\n",
       "      <td>31</td>\n",
       "      <td>Male</td>\n",
       "      <td>0.0</td>\n",
       "      <td>salaried</td>\n",
       "      <td>146.0</td>\n",
       "      <td>2</td>\n",
       "      <td>41</td>\n",
       "      <td>NaN</td>\n",
       "      <td>...</td>\n",
       "      <td>5815.29</td>\n",
       "      <td>4910.17</td>\n",
       "      <td>2815.94</td>\n",
       "      <td>0.61</td>\n",
       "      <td>0.61</td>\n",
       "      <td>6046.73</td>\n",
       "      <td>259.23</td>\n",
       "      <td>5006.28</td>\n",
       "      <td>5070.14</td>\n",
       "      <td>0</td>\n",
       "    </tr>\n",
       "    <tr>\n",
       "      <th>3</th>\n",
       "      <td>5</td>\n",
       "      <td>478</td>\n",
       "      <td>90</td>\n",
       "      <td>NaN</td>\n",
       "      <td>NaN</td>\n",
       "      <td>self_employed</td>\n",
       "      <td>1020.0</td>\n",
       "      <td>2</td>\n",
       "      <td>582</td>\n",
       "      <td>147.0</td>\n",
       "      <td>...</td>\n",
       "      <td>2291.91</td>\n",
       "      <td>2084.54</td>\n",
       "      <td>1006.54</td>\n",
       "      <td>0.47</td>\n",
       "      <td>0.47</td>\n",
       "      <td>0.47</td>\n",
       "      <td>2143.33</td>\n",
       "      <td>2291.91</td>\n",
       "      <td>1669.79</td>\n",
       "      <td>1</td>\n",
       "    </tr>\n",
       "    <tr>\n",
       "      <th>4</th>\n",
       "      <td>6</td>\n",
       "      <td>2531</td>\n",
       "      <td>42</td>\n",
       "      <td>Male</td>\n",
       "      <td>2.0</td>\n",
       "      <td>self_employed</td>\n",
       "      <td>1494.0</td>\n",
       "      <td>3</td>\n",
       "      <td>388</td>\n",
       "      <td>58.0</td>\n",
       "      <td>...</td>\n",
       "      <td>1401.72</td>\n",
       "      <td>1643.31</td>\n",
       "      <td>1871.12</td>\n",
       "      <td>0.33</td>\n",
       "      <td>714.61</td>\n",
       "      <td>588.62</td>\n",
       "      <td>1538.06</td>\n",
       "      <td>1157.15</td>\n",
       "      <td>1677.16</td>\n",
       "      <td>1</td>\n",
       "    </tr>\n",
       "  </tbody>\n",
       "</table>\n",
       "<p>5 rows × 21 columns</p>\n",
       "</div>"
      ],
      "text/plain": [
       "   customer_id  vintage  age gender  dependents     occupation    city  \\\n",
       "0            1     3135   66   Male         0.0  self_employed   187.0   \n",
       "1            2      310   35   Male         0.0  self_employed     NaN   \n",
       "2            4     2356   31   Male         0.0       salaried   146.0   \n",
       "3            5      478   90    NaN         NaN  self_employed  1020.0   \n",
       "4            6     2531   42   Male         2.0  self_employed  1494.0   \n",
       "\n",
       "   customer_nw_category  branch_code  days_since_last_transaction  ...  \\\n",
       "0                     2          755                        224.0  ...   \n",
       "1                     2         3214                         60.0  ...   \n",
       "2                     2           41                          NaN  ...   \n",
       "3                     2          582                        147.0  ...   \n",
       "4                     3          388                         58.0  ...   \n",
       "\n",
       "   previous_month_end_balance  average_monthly_balance_prevQ  \\\n",
       "0                     1458.71                        1458.71   \n",
       "1                     8704.66                        7799.26   \n",
       "2                     5815.29                        4910.17   \n",
       "3                     2291.91                        2084.54   \n",
       "4                     1401.72                        1643.31   \n",
       "\n",
       "   average_monthly_balance_prevQ2  current_month_credit  \\\n",
       "0                         1449.07                  0.20   \n",
       "1                        12419.41                  0.56   \n",
       "2                         2815.94                  0.61   \n",
       "3                         1006.54                  0.47   \n",
       "4                         1871.12                  0.33   \n",
       "\n",
       "   previous_month_credit  current_month_debit  previous_month_debit  \\\n",
       "0                   0.20                 0.20                  0.20   \n",
       "1                   0.56              5486.27                100.56   \n",
       "2                   0.61              6046.73                259.23   \n",
       "3                   0.47                 0.47               2143.33   \n",
       "4                 714.61               588.62               1538.06   \n",
       "\n",
       "   current_month_balance  previous_month_balance  churn  \n",
       "0                1458.71                 1458.71      0  \n",
       "1                6496.78                 8787.61      0  \n",
       "2                5006.28                 5070.14      0  \n",
       "3                2291.91                 1669.79      1  \n",
       "4                1157.15                 1677.16      1  \n",
       "\n",
       "[5 rows x 21 columns]"
      ]
     },
     "execution_count": 4,
     "metadata": {},
     "output_type": "execute_result"
    }
   ],
   "source": [
    "df.head()"
   ]
  },
  {
   "cell_type": "code",
   "execution_count": 5,
   "metadata": {
    "execution": {
     "iopub.execute_input": "2021-05-25T17:25:07.014007Z",
     "iopub.status.busy": "2021-05-25T17:25:07.013541Z",
     "iopub.status.idle": "2021-05-25T17:25:07.079048Z",
     "shell.execute_reply": "2021-05-25T17:25:07.078363Z",
     "shell.execute_reply.started": "2021-05-25T17:25:07.013961Z"
    }
   },
   "outputs": [],
   "source": [
    "#Remove null velues of occupation\n",
    "df.loc[(df['churn'] ==1) & (df['occupation'].isnull()) ,'occupation'] = 'self_emplyoed'\n",
    "df.loc[(df['churn'] ==0) & (df['occupation'].isnull()) ,'occupation'] ='self_emplyoed'\n",
    "df.loc[(df['age'] > 65) & (df['dependents'].isnull()), 'dependents'] = 2.0\n",
    "df.loc[(df['age'] < 25) & (df['dependents'].isnull()), 'dependents'] = 0.0\n",
    "df['dependents'].fillna(df['dependents'].mean(),inplace =True)\n",
    "df['dependents'].fillna(df['dependents'].mean(),inplace =True)\n",
    "df.drop(df.loc[(df['churn'] ==0) & (df['days_since_last_transaction'].isnull()),'days_since_last_transaction'].index ,inplace =True)\n",
    "df['days_since_last_transaction'].fillna(df['days_since_last_transaction'].mean(),inplace =True)\n",
    "df.loc[(df['churn']==1) & (df['gender']).isnull(),'gender']='Male'\n",
    "df.loc[(df['churn']==1) & (df['gender']).isnull(),'gender']='Male'\n",
    "df.drop(df.loc[(df['churn'] ==0) & (df['city'].isnull()),'city'].index ,inplace =True)\n",
    "df['city'].fillna(df['city'].mean(),inplace =True)"
   ]
  },
  {
   "cell_type": "code",
   "execution_count": 6,
   "metadata": {
    "execution": {
     "iopub.execute_input": "2021-05-25T17:25:07.080512Z",
     "iopub.status.busy": "2021-05-25T17:25:07.080081Z",
     "iopub.status.idle": "2021-05-25T17:25:07.083908Z",
     "shell.execute_reply": "2021-05-25T17:25:07.082820Z",
     "shell.execute_reply.started": "2021-05-25T17:25:07.080466Z"
    }
   },
   "outputs": [],
   "source": [
    "# df.loc[(df['churn']==1) & (df['gender']).isnull(),'gender'][:55] = 'Male'"
   ]
  },
  {
   "cell_type": "code",
   "execution_count": 7,
   "metadata": {
    "execution": {
     "iopub.execute_input": "2021-05-25T17:25:07.085748Z",
     "iopub.status.busy": "2021-05-25T17:25:07.085347Z",
     "iopub.status.idle": "2021-05-25T17:25:07.115181Z",
     "shell.execute_reply": "2021-05-25T17:25:07.114172Z",
     "shell.execute_reply.started": "2021-05-25T17:25:07.085708Z"
    }
   },
   "outputs": [
    {
     "name": "stdout",
     "output_type": "stream",
     "text": [
      "<class 'pandas.core.frame.DataFrame'>\n",
      "Int64Index: 24930 entries, 0 to 28381\n",
      "Data columns (total 21 columns):\n",
      " #   Column                          Non-Null Count  Dtype  \n",
      "---  ------                          --------------  -----  \n",
      " 0   customer_id                     24930 non-null  int64  \n",
      " 1   vintage                         24930 non-null  int64  \n",
      " 2   age                             24930 non-null  int64  \n",
      " 3   gender                          24575 non-null  object \n",
      " 4   dependents                      24930 non-null  float64\n",
      " 5   occupation                      24930 non-null  object \n",
      " 6   city                            24930 non-null  float64\n",
      " 7   customer_nw_category            24930 non-null  int64  \n",
      " 8   branch_code                     24930 non-null  int64  \n",
      " 9   days_since_last_transaction     24930 non-null  float64\n",
      " 10  current_balance                 24930 non-null  float64\n",
      " 11  previous_month_end_balance      24930 non-null  float64\n",
      " 12  average_monthly_balance_prevQ   24930 non-null  float64\n",
      " 13  average_monthly_balance_prevQ2  24930 non-null  float64\n",
      " 14  current_month_credit            24930 non-null  float64\n",
      " 15  previous_month_credit           24930 non-null  float64\n",
      " 16  current_month_debit             24930 non-null  float64\n",
      " 17  previous_month_debit            24930 non-null  float64\n",
      " 18  current_month_balance           24930 non-null  float64\n",
      " 19  previous_month_balance          24930 non-null  float64\n",
      " 20  churn                           24930 non-null  int64  \n",
      "dtypes: float64(13), int64(6), object(2)\n",
      "memory usage: 4.2+ MB\n"
     ]
    }
   ],
   "source": [
    "df.info()"
   ]
  },
  {
   "cell_type": "code",
   "execution_count": 8,
   "metadata": {
    "execution": {
     "iopub.execute_input": "2021-05-25T17:25:07.117864Z",
     "iopub.status.busy": "2021-05-25T17:25:07.117569Z",
     "iopub.status.idle": "2021-05-25T17:25:07.137812Z",
     "shell.execute_reply": "2021-05-25T17:25:07.136822Z",
     "shell.execute_reply.started": "2021-05-25T17:25:07.117834Z"
    }
   },
   "outputs": [],
   "source": [
    "# df['gender'] =pd.get_dummies(df['gender'],drop_first= True).values\n",
    "# from sklearn import preprocessing\n",
    "# le = preprocessing.LabelEncoder()\n",
    "# df['occupation'] = le.fit_transform(df['occupation'])"
   ]
  },
  {
   "cell_type": "code",
   "execution_count": 1,
   "metadata": {
    "execution": {
     "iopub.execute_input": "2021-05-25T17:47:09.534858Z",
     "iopub.status.busy": "2021-05-25T17:47:09.534397Z",
     "iopub.status.idle": "2021-05-25T17:47:09.541492Z",
     "shell.execute_reply": "2021-05-25T17:47:09.539767Z",
     "shell.execute_reply.started": "2021-05-25T17:47:09.534819Z"
    }
   },
   "outputs": [],
   "source": [
    "# # save the occupation encodser to disk \n",
    "# filename = 'LabelEncode_occupation.sav'\n",
    "# pickle.dump(le, open(filename, 'wb'))\n"
   ]
  },
  {
   "cell_type": "markdown",
   "metadata": {},
   "source": [
    "Feature Selection"
   ]
  },
  {
   "cell_type": "code",
   "execution_count": 10,
   "metadata": {
    "execution": {
     "iopub.execute_input": "2021-05-25T17:25:07.139885Z",
     "iopub.status.busy": "2021-05-25T17:25:07.139593Z",
     "iopub.status.idle": "2021-05-25T17:25:09.502616Z",
     "shell.execute_reply": "2021-05-25T17:25:09.501902Z",
     "shell.execute_reply.started": "2021-05-25T17:25:07.139856Z"
    }
   },
   "outputs": [
    {
     "data": {
      "text/plain": [
       "<AxesSubplot:>"
      ]
     },
     "execution_count": 10,
     "metadata": {},
     "output_type": "execute_result"
    },
    {
     "data": {
      "image/png": "[encoded data removed]",
      "text/plain": [
       "<Figure size 1296x864 with 2 Axes>"
      ]
     },
     "metadata": {
      "needs_background": "light"
     },
     "output_type": "display_data"
    }
   ],
   "source": [
    "import seaborn as sns\n",
    "plt.figure(figsize = (18,12))\n",
    "sns.heatmap(df.corr(),annot =True)"
   ]
  },
  {
   "cell_type": "code",
   "execution_count": 11,
   "metadata": {
    "execution": {
     "iopub.execute_input": "2021-05-25T17:25:09.503778Z",
     "iopub.status.busy": "2021-05-25T17:25:09.503538Z",
     "iopub.status.idle": "2021-05-25T17:25:09.511755Z",
     "shell.execute_reply": "2021-05-25T17:25:09.510578Z",
     "shell.execute_reply.started": "2021-05-25T17:25:09.503753Z"
    }
   },
   "outputs": [],
   "source": [
    "#drop unwabted columns \n",
    "df.drop(columns = ['average_monthly_balance_prevQ','current_month_balance' ,'city','customer_id','branch_code'],inplace = True)"
   ]
  },
  {
   "cell_type": "code",
   "execution_count": 12,
   "metadata": {
    "execution": {
     "iopub.execute_input": "2021-05-25T17:25:09.513478Z",
     "iopub.status.busy": "2021-05-25T17:25:09.513052Z",
     "iopub.status.idle": "2021-05-25T17:25:09.649561Z",
     "shell.execute_reply": "2021-05-25T17:25:09.648580Z",
     "shell.execute_reply.started": "2021-05-25T17:25:09.513445Z"
    }
   },
   "outputs": [
    {
     "data": {
      "text/plain": [
       "<AxesSubplot:xlabel='gender', ylabel='age'>"
      ]
     },
     "execution_count": 12,
     "metadata": {},
     "output_type": "execute_result"
    },
    {
     "data": {
      "image/png": "[encoded data removed]",
      "text/plain": [
       "<Figure size 432x288 with 1 Axes>"
      ]
     },
     "metadata": {
      "needs_background": "light"
     },
     "output_type": "display_data"
    }
   ],
   "source": [
    "sns.boxplot(x='gender',y ='age',data = df)"
   ]
  },
  {
   "cell_type": "code",
   "execution_count": 13,
   "metadata": {
    "execution": {
     "iopub.execute_input": "2021-05-25T17:25:09.651110Z",
     "iopub.status.busy": "2021-05-25T17:25:09.650788Z",
     "iopub.status.idle": "2021-05-25T17:25:09.791490Z",
     "shell.execute_reply": "2021-05-25T17:25:09.790576Z",
     "shell.execute_reply.started": "2021-05-25T17:25:09.651080Z"
    }
   },
   "outputs": [
    {
     "data": {
      "text/plain": [
       "<AxesSubplot:xlabel='gender', ylabel='vintage'>"
      ]
     },
     "execution_count": 13,
     "metadata": {},
     "output_type": "execute_result"
    },
    {
     "data": {
      "image/png": "[encoded data removed]",
      "text/plain": [
       "<Figure size 432x288 with 1 Axes>"
      ]
     },
     "metadata": {
      "needs_background": "light"
     },
     "output_type": "display_data"
    }
   ],
   "source": [
    "sns.boxplot(x='gender',y ='vintage',data = df)"
   ]
  },
  {
   "cell_type": "code",
   "execution_count": 14,
   "metadata": {
    "execution": {
     "iopub.execute_input": "2021-05-25T17:25:09.792985Z",
     "iopub.status.busy": "2021-05-25T17:25:09.792685Z",
     "iopub.status.idle": "2021-05-25T17:25:09.909063Z",
     "shell.execute_reply": "2021-05-25T17:25:09.908101Z",
     "shell.execute_reply.started": "2021-05-25T17:25:09.792953Z"
    }
   },
   "outputs": [
    {
     "name": "stderr",
     "output_type": "stream",
     "text": [
      "/home/kukaur/.local/lib/python3.8/site-packages/seaborn/_decorators.py:36: FutureWarning: Pass the following variable as a keyword arg: x. From version 0.12, the only valid positional argument will be `data`, and passing other arguments without an explicit keyword will result in an error or misinterpretation.\n",
      "  warnings.warn(\n"
     ]
    },
    {
     "data": {
      "text/plain": [
       "<AxesSubplot:xlabel='vintage'>"
      ]
     },
     "execution_count": 14,
     "metadata": {},
     "output_type": "execute_result"
    },
    {
     "data": {
      "image/png": "[encoded data removed]",
      "text/plain": [
       "<Figure size 432x288 with 1 Axes>"
      ]
     },
     "metadata": {
      "needs_background": "light"
     },
     "output_type": "display_data"
    }
   ],
   "source": [
    "sns.boxplot(df['vintage'])"
   ]
  },
  {
   "cell_type": "code",
   "execution_count": 15,
   "metadata": {
    "execution": {
     "iopub.execute_input": "2021-05-25T17:25:09.910636Z",
     "iopub.status.busy": "2021-05-25T17:25:09.910318Z",
     "iopub.status.idle": "2021-05-25T17:25:10.045302Z",
     "shell.execute_reply": "2021-05-25T17:25:10.044178Z",
     "shell.execute_reply.started": "2021-05-25T17:25:09.910605Z"
    }
   },
   "outputs": [
    {
     "name": "stderr",
     "output_type": "stream",
     "text": [
      "/home/kukaur/.local/lib/python3.8/site-packages/seaborn/_decorators.py:36: FutureWarning: Pass the following variable as a keyword arg: x. From version 0.12, the only valid positional argument will be `data`, and passing other arguments without an explicit keyword will result in an error or misinterpretation.\n",
      "  warnings.warn(\n"
     ]
    },
    {
     "data": {
      "text/plain": [
       "<AxesSubplot:xlabel='current_month_debit'>"
      ]
     },
     "execution_count": 15,
     "metadata": {},
     "output_type": "execute_result"
    },
    {
     "data": {
      "image/png": "[encoded data removed]",
      "text/plain": [
       "<Figure size 432x288 with 1 Axes>"
      ]
     },
     "metadata": {
      "needs_background": "light"
     },
     "output_type": "display_data"
    }
   ],
   "source": [
    "sns.boxplot(df['current_month_debit'])"
   ]
  },
  {
   "cell_type": "code",
   "execution_count": 16,
   "metadata": {
    "execution": {
     "iopub.execute_input": "2021-05-25T17:25:10.047131Z",
     "iopub.status.busy": "2021-05-25T17:25:10.046727Z",
     "iopub.status.idle": "2021-05-25T17:25:10.168186Z",
     "shell.execute_reply": "2021-05-25T17:25:10.167101Z",
     "shell.execute_reply.started": "2021-05-25T17:25:10.047100Z"
    }
   },
   "outputs": [
    {
     "name": "stderr",
     "output_type": "stream",
     "text": [
      "/home/kukaur/.local/lib/python3.8/site-packages/seaborn/_decorators.py:36: FutureWarning: Pass the following variable as a keyword arg: x. From version 0.12, the only valid positional argument will be `data`, and passing other arguments without an explicit keyword will result in an error or misinterpretation.\n",
      "  warnings.warn(\n"
     ]
    },
    {
     "data": {
      "text/plain": [
       "<AxesSubplot:xlabel='previous_month_credit'>"
      ]
     },
     "execution_count": 16,
     "metadata": {},
     "output_type": "execute_result"
    },
    {
     "data": {
      "image/png": "[encoded data removed]",
      "text/plain": [
       "<Figure size 432x288 with 1 Axes>"
      ]
     },
     "metadata": {
      "needs_background": "light"
     },
     "output_type": "display_data"
    }
   ],
   "source": [
    "sns.boxplot(df['previous_month_credit'])"
   ]
  },
  {
   "cell_type": "code",
   "execution_count": 17,
   "metadata": {
    "execution": {
     "iopub.execute_input": "2021-05-25T17:25:10.171838Z",
     "iopub.status.busy": "2021-05-25T17:25:10.171521Z",
     "iopub.status.idle": "2021-05-25T17:25:10.294292Z",
     "shell.execute_reply": "2021-05-25T17:25:10.293327Z",
     "shell.execute_reply.started": "2021-05-25T17:25:10.171808Z"
    }
   },
   "outputs": [
    {
     "name": "stderr",
     "output_type": "stream",
     "text": [
      "/home/kukaur/.local/lib/python3.8/site-packages/seaborn/_decorators.py:36: FutureWarning: Pass the following variable as a keyword arg: x. From version 0.12, the only valid positional argument will be `data`, and passing other arguments without an explicit keyword will result in an error or misinterpretation.\n",
      "  warnings.warn(\n"
     ]
    },
    {
     "data": {
      "text/plain": [
       "<AxesSubplot:xlabel='previous_month_balance'>"
      ]
     },
     "execution_count": 17,
     "metadata": {},
     "output_type": "execute_result"
    },
    {
     "data": {
      "image/png": "[encoded data removed]",
      "text/plain": [
       "<Figure size 432x288 with 1 Axes>"
      ]
     },
     "metadata": {
      "needs_background": "light"
     },
     "output_type": "display_data"
    }
   ],
   "source": [
    "sns.boxplot(df['previous_month_balance'])"
   ]
  },
  {
   "cell_type": "code",
   "execution_count": 18,
   "metadata": {
    "execution": {
     "iopub.execute_input": "2021-05-25T17:25:10.295880Z",
     "iopub.status.busy": "2021-05-25T17:25:10.295581Z",
     "iopub.status.idle": "2021-05-25T17:25:10.416931Z",
     "shell.execute_reply": "2021-05-25T17:25:10.415929Z",
     "shell.execute_reply.started": "2021-05-25T17:25:10.295841Z"
    }
   },
   "outputs": [
    {
     "name": "stderr",
     "output_type": "stream",
     "text": [
      "/home/kukaur/.local/lib/python3.8/site-packages/seaborn/_decorators.py:36: FutureWarning: Pass the following variable as a keyword arg: x. From version 0.12, the only valid positional argument will be `data`, and passing other arguments without an explicit keyword will result in an error or misinterpretation.\n",
      "  warnings.warn(\n"
     ]
    },
    {
     "data": {
      "text/plain": [
       "<AxesSubplot:xlabel='average_monthly_balance_prevQ2'>"
      ]
     },
     "execution_count": 18,
     "metadata": {},
     "output_type": "execute_result"
    },
    {
     "data": {
      "image/png": "[encoded data removed]",
      "text/plain": [
       "<Figure size 432x288 with 1 Axes>"
      ]
     },
     "metadata": {
      "needs_background": "light"
     },
     "output_type": "display_data"
    }
   ],
   "source": [
    "sns.boxplot(df['average_monthly_balance_prevQ2'])"
   ]
  },
  {
   "cell_type": "markdown",
   "metadata": {},
   "source": [
    "Handling Outliers"
   ]
  },
  {
   "cell_type": "code",
   "execution_count": 19,
   "metadata": {
    "execution": {
     "iopub.execute_input": "2021-05-25T17:25:10.418558Z",
     "iopub.status.busy": "2021-05-25T17:25:10.418213Z",
     "iopub.status.idle": "2021-05-25T17:25:10.426027Z",
     "shell.execute_reply": "2021-05-25T17:25:10.425072Z",
     "shell.execute_reply.started": "2021-05-25T17:25:10.418527Z"
    }
   },
   "outputs": [],
   "source": [
    "#list of outliers \n",
    "data = df[['vintage' ,'previous_month_credit','current_month_debit','days_since_last_transaction','previous_month_debit','average_monthly_balance_prevQ2']].copy()"
   ]
  },
  {
   "cell_type": "code",
   "execution_count": 20,
   "metadata": {
    "execution": {
     "iopub.execute_input": "2021-05-25T17:25:10.427695Z",
     "iopub.status.busy": "2021-05-25T17:25:10.427402Z",
     "iopub.status.idle": "2021-05-25T17:25:10.448610Z",
     "shell.execute_reply": "2021-05-25T17:25:10.447567Z",
     "shell.execute_reply.started": "2021-05-25T17:25:10.427665Z"
    }
   },
   "outputs": [
    {
     "data": {
      "text/plain": [
       "vintage                           2096.0000\n",
       "previous_month_credit             1017.9450\n",
       "current_month_debit               1556.6425\n",
       "days_since_last_transaction         83.0000\n",
       "previous_month_debit              1571.0600\n",
       "average_monthly_balance_prevQ2    4848.2125\n",
       "dtype: float64"
      ]
     },
     "execution_count": 20,
     "metadata": {},
     "output_type": "execute_result"
    }
   ],
   "source": [
    "q1 = data.quantile(0.25)\n",
    "q3 = data.quantile(0.75)\n",
    "IQR = q3-q1\n",
    "IQR"
   ]
  },
  {
   "cell_type": "code",
   "execution_count": 21,
   "metadata": {
    "execution": {
     "iopub.execute_input": "2021-05-25T17:25:10.450518Z",
     "iopub.status.busy": "2021-05-25T17:25:10.450166Z",
     "iopub.status.idle": "2021-05-25T17:25:10.461461Z",
     "shell.execute_reply": "2021-05-25T17:25:10.460445Z",
     "shell.execute_reply.started": "2021-05-25T17:25:10.450486Z"
    }
   },
   "outputs": [],
   "source": [
    "data1 = data[-((data< (q1 -1.5*IQR)) | (data>(q3+1.5*IQR))).any(axis=1)]"
   ]
  },
  {
   "cell_type": "code",
   "execution_count": 22,
   "metadata": {
    "execution": {
     "iopub.execute_input": "2021-05-25T17:25:10.462907Z",
     "iopub.status.busy": "2021-05-25T17:25:10.462618Z",
     "iopub.status.idle": "2021-05-25T17:25:10.485484Z",
     "shell.execute_reply": "2021-05-25T17:25:10.484383Z",
     "shell.execute_reply.started": "2021-05-25T17:25:10.462879Z"
    }
   },
   "outputs": [
    {
     "data": {
      "text/html": [
       "<div>\n",
       "<style scoped>\n",
       "    .dataframe tbody tr th:only-of-type {\n",
       "        vertical-align: middle;\n",
       "    }\n",
       "\n",
       "    .dataframe tbody tr th {\n",
       "        vertical-align: top;\n",
       "    }\n",
       "\n",
       "    .dataframe thead th {\n",
       "        text-align: right;\n",
       "    }\n",
       "</style>\n",
       "<table border=\"1\" class=\"dataframe\">\n",
       "  <thead>\n",
       "    <tr style=\"text-align: right;\">\n",
       "      <th></th>\n",
       "      <th>vintage</th>\n",
       "      <th>previous_month_credit</th>\n",
       "      <th>current_month_debit</th>\n",
       "      <th>days_since_last_transaction</th>\n",
       "      <th>previous_month_debit</th>\n",
       "      <th>average_monthly_balance_prevQ2</th>\n",
       "    </tr>\n",
       "  </thead>\n",
       "  <tbody>\n",
       "    <tr>\n",
       "      <th>3</th>\n",
       "      <td>478</td>\n",
       "      <td>0.47</td>\n",
       "      <td>0.47</td>\n",
       "      <td>147.0</td>\n",
       "      <td>2143.33</td>\n",
       "      <td>1006.54</td>\n",
       "    </tr>\n",
       "    <tr>\n",
       "      <th>4</th>\n",
       "      <td>2531</td>\n",
       "      <td>714.61</td>\n",
       "      <td>588.62</td>\n",
       "      <td>58.0</td>\n",
       "      <td>1538.06</td>\n",
       "      <td>1871.12</td>\n",
       "    </tr>\n",
       "    <tr>\n",
       "      <th>5</th>\n",
       "      <td>263</td>\n",
       "      <td>0.36</td>\n",
       "      <td>857.50</td>\n",
       "      <td>60.0</td>\n",
       "      <td>286.07</td>\n",
       "      <td>13798.82</td>\n",
       "    </tr>\n",
       "    <tr>\n",
       "      <th>6</th>\n",
       "      <td>5922</td>\n",
       "      <td>0.64</td>\n",
       "      <td>1299.64</td>\n",
       "      <td>98.0</td>\n",
       "      <td>439.26</td>\n",
       "      <td>11232.37</td>\n",
       "    </tr>\n",
       "    <tr>\n",
       "      <th>8</th>\n",
       "      <td>2132</td>\n",
       "      <td>121.09</td>\n",
       "      <td>714.51</td>\n",
       "      <td>19.0</td>\n",
       "      <td>359.44</td>\n",
       "      <td>1126.13</td>\n",
       "    </tr>\n",
       "    <tr>\n",
       "      <th>...</th>\n",
       "      <td>...</td>\n",
       "      <td>...</td>\n",
       "      <td>...</td>\n",
       "      <td>...</td>\n",
       "      <td>...</td>\n",
       "      <td>...</td>\n",
       "    </tr>\n",
       "    <tr>\n",
       "      <th>28373</th>\n",
       "      <td>2384</td>\n",
       "      <td>433.49</td>\n",
       "      <td>1039.76</td>\n",
       "      <td>3.0</td>\n",
       "      <td>180.37</td>\n",
       "      <td>1973.16</td>\n",
       "    </tr>\n",
       "    <tr>\n",
       "      <th>28375</th>\n",
       "      <td>2041</td>\n",
       "      <td>90.10</td>\n",
       "      <td>1103.20</td>\n",
       "      <td>57.0</td>\n",
       "      <td>1183.04</td>\n",
       "      <td>3515.03</td>\n",
       "    </tr>\n",
       "    <tr>\n",
       "      <th>28377</th>\n",
       "      <td>1845</td>\n",
       "      <td>0.30</td>\n",
       "      <td>0.30</td>\n",
       "      <td>70.0</td>\n",
       "      <td>0.30</td>\n",
       "      <td>2787.70</td>\n",
       "    </tr>\n",
       "    <tr>\n",
       "      <th>28378</th>\n",
       "      <td>4919</td>\n",
       "      <td>2.29</td>\n",
       "      <td>901.00</td>\n",
       "      <td>14.0</td>\n",
       "      <td>1014.07</td>\n",
       "      <td>3865.55</td>\n",
       "    </tr>\n",
       "    <tr>\n",
       "      <th>28381</th>\n",
       "      <td>2349</td>\n",
       "      <td>7.44</td>\n",
       "      <td>714.40</td>\n",
       "      <td>59.0</td>\n",
       "      <td>1094.09</td>\n",
       "      <td>4447.45</td>\n",
       "    </tr>\n",
       "  </tbody>\n",
       "</table>\n",
       "<p>14345 rows × 6 columns</p>\n",
       "</div>"
      ],
      "text/plain": [
       "       vintage  previous_month_credit  current_month_debit  \\\n",
       "3          478                   0.47                 0.47   \n",
       "4         2531                 714.61               588.62   \n",
       "5          263                   0.36               857.50   \n",
       "6         5922                   0.64              1299.64   \n",
       "8         2132                 121.09               714.51   \n",
       "...        ...                    ...                  ...   \n",
       "28373     2384                 433.49              1039.76   \n",
       "28375     2041                  90.10              1103.20   \n",
       "28377     1845                   0.30                 0.30   \n",
       "28378     4919                   2.29               901.00   \n",
       "28381     2349                   7.44               714.40   \n",
       "\n",
       "       days_since_last_transaction  previous_month_debit  \\\n",
       "3                            147.0               2143.33   \n",
       "4                             58.0               1538.06   \n",
       "5                             60.0                286.07   \n",
       "6                             98.0                439.26   \n",
       "8                             19.0                359.44   \n",
       "...                            ...                   ...   \n",
       "28373                          3.0                180.37   \n",
       "28375                         57.0               1183.04   \n",
       "28377                         70.0                  0.30   \n",
       "28378                         14.0               1014.07   \n",
       "28381                         59.0               1094.09   \n",
       "\n",
       "       average_monthly_balance_prevQ2  \n",
       "3                             1006.54  \n",
       "4                             1871.12  \n",
       "5                            13798.82  \n",
       "6                            11232.37  \n",
       "8                             1126.13  \n",
       "...                               ...  \n",
       "28373                         1973.16  \n",
       "28375                         3515.03  \n",
       "28377                         2787.70  \n",
       "28378                         3865.55  \n",
       "28381                         4447.45  \n",
       "\n",
       "[14345 rows x 6 columns]"
      ]
     },
     "execution_count": 22,
     "metadata": {},
     "output_type": "execute_result"
    }
   ],
   "source": [
    "data1"
   ]
  },
  {
   "cell_type": "markdown",
   "metadata": {
    "execution": {
     "iopub.execute_input": "2021-05-24T20:50:39.155924Z",
     "iopub.status.busy": "2021-05-24T20:50:39.155434Z",
     "iopub.status.idle": "2021-05-24T20:50:39.166757Z",
     "shell.execute_reply": "2021-05-24T20:50:39.163491Z",
     "shell.execute_reply.started": "2021-05-24T20:50:39.155894Z"
    }
   },
   "source": [
    "Check Skewness of data"
   ]
  },
  {
   "cell_type": "code",
   "execution_count": 23,
   "metadata": {
    "execution": {
     "iopub.execute_input": "2021-05-25T17:25:10.487237Z",
     "iopub.status.busy": "2021-05-25T17:25:10.486826Z",
     "iopub.status.idle": "2021-05-25T17:25:10.500024Z",
     "shell.execute_reply": "2021-05-25T17:25:10.498962Z",
     "shell.execute_reply.started": "2021-05-25T17:25:10.487192Z"
    }
   },
   "outputs": [
    {
     "data": {
      "text/plain": [
       "vintage                           0.763579\n",
       "previous_month_credit             2.106071\n",
       "current_month_debit               2.055850\n",
       "days_since_last_transaction       1.099260\n",
       "previous_month_debit              2.159483\n",
       "average_monthly_balance_prevQ2    1.281517\n",
       "dtype: float64"
      ]
     },
     "execution_count": 23,
     "metadata": {},
     "output_type": "execute_result"
    }
   ],
   "source": [
    "data1.skew()"
   ]
  },
  {
   "cell_type": "code",
   "execution_count": 24,
   "metadata": {
    "execution": {
     "iopub.execute_input": "2021-05-25T17:25:10.505079Z",
     "iopub.status.busy": "2021-05-25T17:25:10.504782Z",
     "iopub.status.idle": "2021-05-25T17:25:10.508767Z",
     "shell.execute_reply": "2021-05-25T17:25:10.507726Z",
     "shell.execute_reply.started": "2021-05-25T17:25:10.505047Z"
    }
   },
   "outputs": [],
   "source": [
    "# set.intersection(set(df.columns),set(data1.columns))"
   ]
  },
  {
   "cell_type": "code",
   "execution_count": null,
   "metadata": {},
   "outputs": [],
   "source": []
  },
  {
   "cell_type": "markdown",
   "metadata": {
    "execution": {
     "iopub.execute_input": "2021-05-24T20:59:15.782008Z",
     "iopub.status.busy": "2021-05-24T20:59:15.781585Z",
     "iopub.status.idle": "2021-05-24T20:59:15.792465Z",
     "shell.execute_reply": "2021-05-24T20:59:15.790970Z",
     "shell.execute_reply.started": "2021-05-24T20:59:15.781965Z"
    }
   },
   "source": [
    "Merge data after removing outliers****"
   ]
  },
  {
   "cell_type": "code",
   "execution_count": 25,
   "metadata": {
    "execution": {
     "iopub.execute_input": "2021-05-25T17:25:10.511021Z",
     "iopub.status.busy": "2021-05-25T17:25:10.510685Z",
     "iopub.status.idle": "2021-05-25T17:25:10.520767Z",
     "shell.execute_reply": "2021-05-25T17:25:10.519852Z",
     "shell.execute_reply.started": "2021-05-25T17:25:10.510991Z"
    }
   },
   "outputs": [
    {
     "data": {
      "text/plain": [
       "Index(['vintage', 'previous_month_credit', 'current_month_debit',\n",
       "       'days_since_last_transaction', 'previous_month_debit',\n",
       "       'average_monthly_balance_prevQ2'],\n",
       "      dtype='object')"
      ]
     },
     "execution_count": 25,
     "metadata": {},
     "output_type": "execute_result"
    }
   ],
   "source": [
    "data1.columns"
   ]
  },
  {
   "cell_type": "code",
   "execution_count": 26,
   "metadata": {
    "execution": {
     "iopub.execute_input": "2021-05-25T17:25:10.522459Z",
     "iopub.status.busy": "2021-05-25T17:25:10.522100Z",
     "iopub.status.idle": "2021-05-25T17:25:10.530585Z",
     "shell.execute_reply": "2021-05-25T17:25:10.529574Z",
     "shell.execute_reply.started": "2021-05-25T17:25:10.522409Z"
    }
   },
   "outputs": [],
   "source": [
    "diff_cols =list(set(df.columns) - set(data1.columns))"
   ]
  },
  {
   "cell_type": "code",
   "execution_count": 27,
   "metadata": {
    "execution": {
     "iopub.execute_input": "2021-05-25T17:25:10.532251Z",
     "iopub.status.busy": "2021-05-25T17:25:10.531940Z",
     "iopub.status.idle": "2021-05-25T17:25:10.543901Z",
     "shell.execute_reply": "2021-05-25T17:25:10.542825Z",
     "shell.execute_reply.started": "2021-05-25T17:25:10.532222Z"
    }
   },
   "outputs": [
    {
     "data": {
      "text/plain": [
       "['gender',\n",
       " 'current_month_credit',\n",
       " 'churn',\n",
       " 'current_balance',\n",
       " 'occupation',\n",
       " 'previous_month_balance',\n",
       " 'dependents',\n",
       " 'customer_nw_category',\n",
       " 'previous_month_end_balance',\n",
       " 'age']"
      ]
     },
     "execution_count": 27,
     "metadata": {},
     "output_type": "execute_result"
    }
   ],
   "source": [
    "diff_cols"
   ]
  },
  {
   "cell_type": "code",
   "execution_count": 28,
   "metadata": {
    "execution": {
     "iopub.execute_input": "2021-05-25T17:25:10.547347Z",
     "iopub.status.busy": "2021-05-25T17:25:10.547062Z",
     "iopub.status.idle": "2021-05-25T17:25:10.555152Z",
     "shell.execute_reply": "2021-05-25T17:25:10.554124Z",
     "shell.execute_reply.started": "2021-05-25T17:25:10.547307Z"
    }
   },
   "outputs": [],
   "source": [
    "data2  = df[diff_cols]"
   ]
  },
  {
   "cell_type": "code",
   "execution_count": 29,
   "metadata": {
    "execution": {
     "iopub.execute_input": "2021-05-25T17:25:10.557090Z",
     "iopub.status.busy": "2021-05-25T17:25:10.556689Z",
     "iopub.status.idle": "2021-05-25T17:25:10.578997Z",
     "shell.execute_reply": "2021-05-25T17:25:10.578238Z",
     "shell.execute_reply.started": "2021-05-25T17:25:10.557043Z"
    }
   },
   "outputs": [],
   "source": [
    "new = data1.merge(data2,left_index=True,right_index=True)"
   ]
  },
  {
   "cell_type": "code",
   "execution_count": 30,
   "metadata": {
    "execution": {
     "iopub.execute_input": "2021-05-25T17:25:10.580353Z",
     "iopub.status.busy": "2021-05-25T17:25:10.579957Z",
     "iopub.status.idle": "2021-05-25T17:25:10.584588Z",
     "shell.execute_reply": "2021-05-25T17:25:10.583721Z",
     "shell.execute_reply.started": "2021-05-25T17:25:10.580324Z"
    }
   },
   "outputs": [],
   "source": [
    "new.reset_index(inplace=True,drop=True)"
   ]
  },
  {
   "cell_type": "code",
   "execution_count": 31,
   "metadata": {
    "execution": {
     "iopub.execute_input": "2021-05-25T17:25:10.586426Z",
     "iopub.status.busy": "2021-05-25T17:25:10.585730Z",
     "iopub.status.idle": "2021-05-25T17:25:10.626500Z",
     "shell.execute_reply": "2021-05-25T17:25:10.625499Z",
     "shell.execute_reply.started": "2021-05-25T17:25:10.586391Z"
    }
   },
   "outputs": [
    {
     "data": {
      "text/html": [
       "<div>\n",
       "<style scoped>\n",
       "    .dataframe tbody tr th:only-of-type {\n",
       "        vertical-align: middle;\n",
       "    }\n",
       "\n",
       "    .dataframe tbody tr th {\n",
       "        vertical-align: top;\n",
       "    }\n",
       "\n",
       "    .dataframe thead th {\n",
       "        text-align: right;\n",
       "    }\n",
       "</style>\n",
       "<table border=\"1\" class=\"dataframe\">\n",
       "  <thead>\n",
       "    <tr style=\"text-align: right;\">\n",
       "      <th></th>\n",
       "      <th>vintage</th>\n",
       "      <th>previous_month_credit</th>\n",
       "      <th>current_month_debit</th>\n",
       "      <th>days_since_last_transaction</th>\n",
       "      <th>previous_month_debit</th>\n",
       "      <th>average_monthly_balance_prevQ2</th>\n",
       "      <th>gender</th>\n",
       "      <th>current_month_credit</th>\n",
       "      <th>churn</th>\n",
       "      <th>current_balance</th>\n",
       "      <th>occupation</th>\n",
       "      <th>previous_month_balance</th>\n",
       "      <th>dependents</th>\n",
       "      <th>customer_nw_category</th>\n",
       "      <th>previous_month_end_balance</th>\n",
       "      <th>age</th>\n",
       "    </tr>\n",
       "  </thead>\n",
       "  <tbody>\n",
       "    <tr>\n",
       "      <th>0</th>\n",
       "      <td>478</td>\n",
       "      <td>0.47</td>\n",
       "      <td>0.47</td>\n",
       "      <td>147.0</td>\n",
       "      <td>2143.33</td>\n",
       "      <td>1006.54</td>\n",
       "      <td>1</td>\n",
       "      <td>0.47</td>\n",
       "      <td>1</td>\n",
       "      <td>2291.91</td>\n",
       "      <td>3</td>\n",
       "      <td>1669.79</td>\n",
       "      <td>2.0</td>\n",
       "      <td>2</td>\n",
       "      <td>2291.91</td>\n",
       "      <td>90</td>\n",
       "    </tr>\n",
       "    <tr>\n",
       "      <th>1</th>\n",
       "      <td>2531</td>\n",
       "      <td>714.61</td>\n",
       "      <td>588.62</td>\n",
       "      <td>58.0</td>\n",
       "      <td>1538.06</td>\n",
       "      <td>1871.12</td>\n",
       "      <td>1</td>\n",
       "      <td>0.33</td>\n",
       "      <td>1</td>\n",
       "      <td>927.72</td>\n",
       "      <td>3</td>\n",
       "      <td>1677.16</td>\n",
       "      <td>2.0</td>\n",
       "      <td>3</td>\n",
       "      <td>1401.72</td>\n",
       "      <td>42</td>\n",
       "    </tr>\n",
       "    <tr>\n",
       "      <th>2</th>\n",
       "      <td>263</td>\n",
       "      <td>0.36</td>\n",
       "      <td>857.50</td>\n",
       "      <td>60.0</td>\n",
       "      <td>286.07</td>\n",
       "      <td>13798.82</td>\n",
       "      <td>0</td>\n",
       "      <td>0.36</td>\n",
       "      <td>0</td>\n",
       "      <td>15202.20</td>\n",
       "      <td>3</td>\n",
       "      <td>15349.75</td>\n",
       "      <td>0.0</td>\n",
       "      <td>2</td>\n",
       "      <td>16059.34</td>\n",
       "      <td>42</td>\n",
       "    </tr>\n",
       "    <tr>\n",
       "      <th>3</th>\n",
       "      <td>5922</td>\n",
       "      <td>0.64</td>\n",
       "      <td>1299.64</td>\n",
       "      <td>98.0</td>\n",
       "      <td>439.26</td>\n",
       "      <td>11232.37</td>\n",
       "      <td>1</td>\n",
       "      <td>0.64</td>\n",
       "      <td>0</td>\n",
       "      <td>7006.93</td>\n",
       "      <td>1</td>\n",
       "      <td>7755.98</td>\n",
       "      <td>0.0</td>\n",
       "      <td>1</td>\n",
       "      <td>7714.19</td>\n",
       "      <td>72</td>\n",
       "    </tr>\n",
       "    <tr>\n",
       "      <th>4</th>\n",
       "      <td>2132</td>\n",
       "      <td>121.09</td>\n",
       "      <td>714.51</td>\n",
       "      <td>19.0</td>\n",
       "      <td>359.44</td>\n",
       "      <td>1126.13</td>\n",
       "      <td>1</td>\n",
       "      <td>714.51</td>\n",
       "      <td>0</td>\n",
       "      <td>1355.86</td>\n",
       "      <td>2</td>\n",
       "      <td>1857.42</td>\n",
       "      <td>0.0</td>\n",
       "      <td>2</td>\n",
       "      <td>1355.86</td>\n",
       "      <td>31</td>\n",
       "    </tr>\n",
       "    <tr>\n",
       "      <th>...</th>\n",
       "      <td>...</td>\n",
       "      <td>...</td>\n",
       "      <td>...</td>\n",
       "      <td>...</td>\n",
       "      <td>...</td>\n",
       "      <td>...</td>\n",
       "      <td>...</td>\n",
       "      <td>...</td>\n",
       "      <td>...</td>\n",
       "      <td>...</td>\n",
       "      <td>...</td>\n",
       "      <td>...</td>\n",
       "      <td>...</td>\n",
       "      <td>...</td>\n",
       "      <td>...</td>\n",
       "      <td>...</td>\n",
       "    </tr>\n",
       "    <tr>\n",
       "      <th>14340</th>\n",
       "      <td>2384</td>\n",
       "      <td>433.49</td>\n",
       "      <td>1039.76</td>\n",
       "      <td>3.0</td>\n",
       "      <td>180.37</td>\n",
       "      <td>1973.16</td>\n",
       "      <td>1</td>\n",
       "      <td>2514.47</td>\n",
       "      <td>0</td>\n",
       "      <td>2554.37</td>\n",
       "      <td>1</td>\n",
       "      <td>1800.70</td>\n",
       "      <td>0.0</td>\n",
       "      <td>3</td>\n",
       "      <td>1926.57</td>\n",
       "      <td>73</td>\n",
       "    </tr>\n",
       "    <tr>\n",
       "      <th>14341</th>\n",
       "      <td>2041</td>\n",
       "      <td>90.10</td>\n",
       "      <td>1103.20</td>\n",
       "      <td>57.0</td>\n",
       "      <td>1183.04</td>\n",
       "      <td>3515.03</td>\n",
       "      <td>1</td>\n",
       "      <td>0.51</td>\n",
       "      <td>0</td>\n",
       "      <td>7493.69</td>\n",
       "      <td>3</td>\n",
       "      <td>7431.36</td>\n",
       "      <td>0.0</td>\n",
       "      <td>2</td>\n",
       "      <td>6777.41</td>\n",
       "      <td>42</td>\n",
       "    </tr>\n",
       "    <tr>\n",
       "      <th>14342</th>\n",
       "      <td>1845</td>\n",
       "      <td>0.30</td>\n",
       "      <td>0.30</td>\n",
       "      <td>70.0</td>\n",
       "      <td>0.30</td>\n",
       "      <td>2787.70</td>\n",
       "      <td>0</td>\n",
       "      <td>0.30</td>\n",
       "      <td>0</td>\n",
       "      <td>1076.43</td>\n",
       "      <td>5</td>\n",
       "      <td>1076.43</td>\n",
       "      <td>0.0</td>\n",
       "      <td>2</td>\n",
       "      <td>1076.43</td>\n",
       "      <td>10</td>\n",
       "    </tr>\n",
       "    <tr>\n",
       "      <th>14343</th>\n",
       "      <td>4919</td>\n",
       "      <td>2.29</td>\n",
       "      <td>901.00</td>\n",
       "      <td>14.0</td>\n",
       "      <td>1014.07</td>\n",
       "      <td>3865.55</td>\n",
       "      <td>0</td>\n",
       "      <td>1.71</td>\n",
       "      <td>0</td>\n",
       "      <td>3844.10</td>\n",
       "      <td>3</td>\n",
       "      <td>3690.32</td>\n",
       "      <td>0.0</td>\n",
       "      <td>2</td>\n",
       "      <td>4069.21</td>\n",
       "      <td>34</td>\n",
       "    </tr>\n",
       "    <tr>\n",
       "      <th>14344</th>\n",
       "      <td>2349</td>\n",
       "      <td>7.44</td>\n",
       "      <td>714.40</td>\n",
       "      <td>59.0</td>\n",
       "      <td>1094.09</td>\n",
       "      <td>4447.45</td>\n",
       "      <td>1</td>\n",
       "      <td>0.11</td>\n",
       "      <td>1</td>\n",
       "      <td>2107.05</td>\n",
       "      <td>5</td>\n",
       "      <td>3260.58</td>\n",
       "      <td>0.0</td>\n",
       "      <td>2</td>\n",
       "      <td>2821.34</td>\n",
       "      <td>18</td>\n",
       "    </tr>\n",
       "  </tbody>\n",
       "</table>\n",
       "<p>14345 rows × 16 columns</p>\n",
       "</div>"
      ],
      "text/plain": [
       "       vintage  previous_month_credit  current_month_debit  \\\n",
       "0          478                   0.47                 0.47   \n",
       "1         2531                 714.61               588.62   \n",
       "2          263                   0.36               857.50   \n",
       "3         5922                   0.64              1299.64   \n",
       "4         2132                 121.09               714.51   \n",
       "...        ...                    ...                  ...   \n",
       "14340     2384                 433.49              1039.76   \n",
       "14341     2041                  90.10              1103.20   \n",
       "14342     1845                   0.30                 0.30   \n",
       "14343     4919                   2.29               901.00   \n",
       "14344     2349                   7.44               714.40   \n",
       "\n",
       "       days_since_last_transaction  previous_month_debit  \\\n",
       "0                            147.0               2143.33   \n",
       "1                             58.0               1538.06   \n",
       "2                             60.0                286.07   \n",
       "3                             98.0                439.26   \n",
       "4                             19.0                359.44   \n",
       "...                            ...                   ...   \n",
       "14340                          3.0                180.37   \n",
       "14341                         57.0               1183.04   \n",
       "14342                         70.0                  0.30   \n",
       "14343                         14.0               1014.07   \n",
       "14344                         59.0               1094.09   \n",
       "\n",
       "       average_monthly_balance_prevQ2  gender  current_month_credit  churn  \\\n",
       "0                             1006.54       1                  0.47      1   \n",
       "1                             1871.12       1                  0.33      1   \n",
       "2                            13798.82       0                  0.36      0   \n",
       "3                            11232.37       1                  0.64      0   \n",
       "4                             1126.13       1                714.51      0   \n",
       "...                               ...     ...                   ...    ...   \n",
       "14340                         1973.16       1               2514.47      0   \n",
       "14341                         3515.03       1                  0.51      0   \n",
       "14342                         2787.70       0                  0.30      0   \n",
       "14343                         3865.55       0                  1.71      0   \n",
       "14344                         4447.45       1                  0.11      1   \n",
       "\n",
       "       current_balance  occupation  previous_month_balance  dependents  \\\n",
       "0              2291.91           3                 1669.79         2.0   \n",
       "1               927.72           3                 1677.16         2.0   \n",
       "2             15202.20           3                15349.75         0.0   \n",
       "3              7006.93           1                 7755.98         0.0   \n",
       "4              1355.86           2                 1857.42         0.0   \n",
       "...                ...         ...                     ...         ...   \n",
       "14340          2554.37           1                 1800.70         0.0   \n",
       "14341          7493.69           3                 7431.36         0.0   \n",
       "14342          1076.43           5                 1076.43         0.0   \n",
       "14343          3844.10           3                 3690.32         0.0   \n",
       "14344          2107.05           5                 3260.58         0.0   \n",
       "\n",
       "       customer_nw_category  previous_month_end_balance  age  \n",
       "0                         2                     2291.91   90  \n",
       "1                         3                     1401.72   42  \n",
       "2                         2                    16059.34   42  \n",
       "3                         1                     7714.19   72  \n",
       "4                         2                     1355.86   31  \n",
       "...                     ...                         ...  ...  \n",
       "14340                     3                     1926.57   73  \n",
       "14341                     2                     6777.41   42  \n",
       "14342                     2                     1076.43   10  \n",
       "14343                     2                     4069.21   34  \n",
       "14344                     2                     2821.34   18  \n",
       "\n",
       "[14345 rows x 16 columns]"
      ]
     },
     "execution_count": 31,
     "metadata": {},
     "output_type": "execute_result"
    }
   ],
   "source": [
    "new"
   ]
  },
  {
   "cell_type": "code",
   "execution_count": 32,
   "metadata": {
    "execution": {
     "iopub.execute_input": "2021-05-25T17:25:10.628452Z",
     "iopub.status.busy": "2021-05-25T17:25:10.628018Z",
     "iopub.status.idle": "2021-05-25T17:25:10.639684Z",
     "shell.execute_reply": "2021-05-25T17:25:10.638617Z",
     "shell.execute_reply.started": "2021-05-25T17:25:10.628402Z"
    }
   },
   "outputs": [],
   "source": [
    "X = new.drop('churn',axis = 1).values\n",
    "y = new['churn'].values"
   ]
  },
  {
   "cell_type": "code",
   "execution_count": null,
   "metadata": {},
   "outputs": [],
   "source": []
  },
  {
   "cell_type": "code",
   "execution_count": 32,
   "metadata": {
    "execution": {
     "iopub.execute_input": "2021-05-25T17:25:10.641457Z",
     "iopub.status.busy": "2021-05-25T17:25:10.641040Z",
     "iopub.status.idle": "2021-05-25T17:25:12.210654Z",
     "shell.execute_reply": "2021-05-25T17:25:12.209635Z",
     "shell.execute_reply.started": "2021-05-25T17:25:10.641397Z"
    }
   },
   "outputs": [
    {
     "data": {
      "image/png": "[encoded data removed]",
      "text/plain": [
       "<Figure size 432x288 with 1 Axes>"
      ]
     },
     "metadata": {
      "needs_background": "light"
     },
     "output_type": "display_data"
    }
   ],
   "source": [
    "#Fearture selection\n",
    "from sklearn.ensemble import ExtraTreesClassifier\n",
    "model = ExtraTreesClassifier()\n",
    "model.fit(X ,y)\n",
    "importance = pd.Series(model.feature_importances_ ,index= new.drop('churn',axis = 1).columns)\n",
    "importance.nlargest(15).plot(kind='barh')\n",
    "plt.show()"
   ]
  },
  {
   "cell_type": "code",
   "execution_count": 33,
   "metadata": {
    "execution": {
     "iopub.execute_input": "2021-05-25T17:25:12.212363Z",
     "iopub.status.busy": "2021-05-25T17:25:12.212016Z",
     "iopub.status.idle": "2021-05-25T17:25:12.219299Z",
     "shell.execute_reply": "2021-05-25T17:25:12.218235Z",
     "shell.execute_reply.started": "2021-05-25T17:25:12.212332Z"
    }
   },
   "outputs": [],
   "source": [
    "features = new[importance.nlargest(10).index]"
   ]
  },
  {
   "cell_type": "code",
   "execution_count": 34,
   "metadata": {
    "execution": {
     "iopub.execute_input": "2021-05-25T17:25:12.220860Z",
     "iopub.status.busy": "2021-05-25T17:25:12.220533Z",
     "iopub.status.idle": "2021-05-25T17:25:12.242645Z",
     "shell.execute_reply": "2021-05-25T17:25:12.241443Z",
     "shell.execute_reply.started": "2021-05-25T17:25:12.220828Z"
    }
   },
   "outputs": [],
   "source": [
    "#scaling\n",
    "from sklearn.preprocessing import StandardScaler\n",
    "scaler = StandardScaler()\n",
    "\n",
    "scaled = scaler.fit_transform(features)"
   ]
  },
  {
   "cell_type": "code",
   "execution_count": 58,
   "metadata": {
    "execution": {
     "iopub.execute_input": "2021-05-25T17:44:19.648000Z",
     "iopub.status.busy": "2021-05-25T17:44:19.647598Z",
     "iopub.status.idle": "2021-05-25T17:44:19.653803Z",
     "shell.execute_reply": "2021-05-25T17:44:19.652765Z",
     "shell.execute_reply.started": "2021-05-25T17:44:19.647969Z"
    }
   },
   "outputs": [],
   "source": [
    "import pickle\n",
    "filename = 'scaler.sav'\n",
    "pickle.dump(scaler, open(filename, 'wb'))\n"
   ]
  },
  {
   "cell_type": "code",
   "execution_count": 36,
   "metadata": {
    "execution": {
     "iopub.execute_input": "2021-05-25T17:25:12.249718Z",
     "iopub.status.busy": "2021-05-25T17:25:12.249353Z",
     "iopub.status.idle": "2021-05-25T17:25:12.261977Z",
     "shell.execute_reply": "2021-05-25T17:25:12.261126Z",
     "shell.execute_reply.started": "2021-05-25T17:25:12.249688Z"
    }
   },
   "outputs": [
    {
     "name": "stdout",
     "output_type": "stream",
     "text": [
      "(11476, 10) (11476,) (2869, 10) (2869,)\n"
     ]
    }
   ],
   "source": [
    "from sklearn.model_selection import train_test_split\n",
    "x_train,x_test ,y_train,y_test = train_test_split(scaled, y,test_size=0.2,random_state=10)\n",
    "\n",
    "print(x_train.shape,y_train.shape,x_test.shape,y_test.shape)"
   ]
  },
  {
   "cell_type": "code",
   "execution_count": 37,
   "metadata": {
    "execution": {
     "iopub.execute_input": "2021-05-25T17:25:12.263851Z",
     "iopub.status.busy": "2021-05-25T17:25:12.263272Z",
     "iopub.status.idle": "2021-05-25T17:25:49.410500Z",
     "shell.execute_reply": "2021-05-25T17:25:49.409361Z",
     "shell.execute_reply.started": "2021-05-25T17:25:12.263811Z"
    }
   },
   "outputs": [
    {
     "name": "stdout",
     "output_type": "stream",
     "text": [
      "LR: 0.849687 (0.003805)\n",
      "LDA: 0.840537 (0.003086)\n",
      "KNN: 0.840622 (0.006163)\n",
      "CART: 0.801410 (0.009260)\n",
      "NB: 0.809426 (0.012080)\n",
      "SVM: 0.850732 (0.002269)\n"
     ]
    }
   ],
   "source": [
    "# Spot Check Algorithms\n",
    "models = []\n",
    "models.append(('LR', LogisticRegression(solver='liblinear', multi_class='ovr')))\n",
    "models.append(('LDA', LinearDiscriminantAnalysis()))\n",
    "models.append(('KNN', KNeighborsClassifier()))\n",
    "models.append(('CART', DecisionTreeClassifier()))\n",
    "models.append(('NB', GaussianNB()))\n",
    "models.append(('SVM', SVC(gamma='auto')))\n",
    "# evaluate each model in turn\n",
    "results = []\n",
    "names = []\n",
    "for name, model in models:\n",
    "\tkfold = StratifiedKFold(n_splits=10, random_state=1, shuffle=True)\n",
    "\tcv_results = cross_val_score(model, x_train, y_train, cv=kfold, scoring='accuracy')\n",
    "\tresults.append(cv_results)\n",
    "\tnames.append(name)\n",
    "\tprint('%s: %f (%f)' % (name, cv_results.mean(), cv_results.std()))"
   ]
  },
  {
   "cell_type": "code",
   "execution_count": 38,
   "metadata": {
    "execution": {
     "iopub.execute_input": "2021-05-25T17:25:49.412420Z",
     "iopub.status.busy": "2021-05-25T17:25:49.411964Z",
     "iopub.status.idle": "2021-05-25T17:25:53.924720Z",
     "shell.execute_reply": "2021-05-25T17:25:53.923868Z",
     "shell.execute_reply.started": "2021-05-25T17:25:49.412305Z"
    }
   },
   "outputs": [],
   "source": [
    "model = models[5][1].fit(x_train,y_train)\n",
    "y_pred =model.predict(x_test)"
   ]
  },
  {
   "cell_type": "code",
   "execution_count": 39,
   "metadata": {
    "execution": {
     "iopub.execute_input": "2021-05-25T17:25:53.926209Z",
     "iopub.status.busy": "2021-05-25T17:25:53.925917Z",
     "iopub.status.idle": "2021-05-25T17:25:53.945214Z",
     "shell.execute_reply": "2021-05-25T17:25:53.944325Z",
     "shell.execute_reply.started": "2021-05-25T17:25:53.926181Z"
    }
   },
   "outputs": [
    {
     "name": "stdout",
     "output_type": "stream",
     "text": [
      "0.8529104217497386\n",
      "[[2409   18]\n",
      " [ 404   38]]\n",
      "              precision    recall  f1-score   support\n",
      "\n",
      "           0       0.86      0.99      0.92      2427\n",
      "           1       0.68      0.09      0.15       442\n",
      "\n",
      "    accuracy                           0.85      2869\n",
      "   macro avg       0.77      0.54      0.54      2869\n",
      "weighted avg       0.83      0.85      0.80      2869\n",
      "\n"
     ]
    }
   ],
   "source": [
    "# Evaluate predictions\n",
    "print(accuracy_score(y_test,y_pred))\n",
    "print(confusion_matrix(y_test, y_pred))\n",
    "print(classification_report(y_test, y_pred))"
   ]
  },
  {
   "cell_type": "code",
   "execution_count": 40,
   "metadata": {
    "execution": {
     "iopub.execute_input": "2021-05-25T17:25:53.946660Z",
     "iopub.status.busy": "2021-05-25T17:25:53.946377Z",
     "iopub.status.idle": "2021-05-25T17:25:54.924252Z",
     "shell.execute_reply": "2021-05-25T17:25:54.923304Z",
     "shell.execute_reply.started": "2021-05-25T17:25:53.946632Z"
    }
   },
   "outputs": [
    {
     "name": "stderr",
     "output_type": "stream",
     "text": [
      "/opt/conda/lib/python3.7/site-packages/xgboost/sklearn.py:1146: UserWarning: The use of label encoder in XGBClassifier is deprecated and will be removed in a future release. To remove this warning, do the following: 1) Pass option use_label_encoder=False when constructing XGBClassifier object; and 2) Encode your labels (y) as integers starting with 0, i.e. 0, 1, 2, ..., [num_class - 1].\n",
      "  warnings.warn(label_encoder_deprecation_msg, UserWarning)\n"
     ]
    },
    {
     "name": "stdout",
     "output_type": "stream",
     "text": [
      "[17:25:54] WARNING: ../src/learner.cc:1095: Starting in XGBoost 1.3.0, the default evaluation metric used with the objective 'binary:logistic' was changed from 'error' to 'logloss'. Explicitly set eval_metric if you'd like to restore the old behavior.\n",
      "              precision    recall  f1-score   support\n",
      "\n",
      "           0       0.88      0.98      0.93      2427\n",
      "           1       0.69      0.29      0.40       442\n",
      "\n",
      "    accuracy                           0.87      2869\n",
      "   macro avg       0.79      0.63      0.67      2869\n",
      "weighted avg       0.85      0.87      0.85      2869\n",
      "\n"
     ]
    }
   ],
   "source": [
    "from xgboost import XGBRFClassifier\n",
    "model = XGBRFClassifier()\n",
    "model.fit(x_train,y_train)\n",
    "y_pred = model.predict(x_test)\n",
    "accuracy_score(y_test,y_pred)\n",
    "confusion_matrix(y_test,y_pred)\n",
    "print(classification_report(y_test,y_pred))"
   ]
  },
  {
   "cell_type": "code",
   "execution_count": 41,
   "metadata": {
    "execution": {
     "iopub.execute_input": "2021-05-25T17:25:54.925890Z",
     "iopub.status.busy": "2021-05-25T17:25:54.925547Z",
     "iopub.status.idle": "2021-05-25T17:25:54.930988Z",
     "shell.execute_reply": "2021-05-25T17:25:54.929994Z",
     "shell.execute_reply.started": "2021-05-25T17:25:54.925859Z"
    }
   },
   "outputs": [],
   "source": [
    "#Hyperparamneter tuning\n",
    "from sklearn.model_selection import GridSearchCV\n",
    "from xgboost import XGBRFClassifier\n",
    "def gridsearchfn(x_train ,y_train,model ,paramgrid ,cv =5 ,scoring_fit = 'precision' ):\n",
    "    gs = GridSearchCV(estimator = model ,\n",
    "                     param_grid = paramgrid,\n",
    "                     cv = cv,\n",
    "                     scoring = scoring_fit)\n",
    "    fitted_model = gs.fit(x_train,y_train)\n",
    "\n",
    "    return(fitted_model)"
   ]
  },
  {
   "cell_type": "code",
   "execution_count": 42,
   "metadata": {
    "execution": {
     "iopub.execute_input": "2021-05-25T17:25:54.932789Z",
     "iopub.status.busy": "2021-05-25T17:25:54.932404Z",
     "iopub.status.idle": "2021-05-25T17:25:54.942052Z",
     "shell.execute_reply": "2021-05-25T17:25:54.941349Z",
     "shell.execute_reply.started": "2021-05-25T17:25:54.932752Z"
    }
   },
   "outputs": [],
   "source": [
    "# model = XGBRFClassifier()\n",
    "# paramgrid = {\n",
    "#     'max_depth':[5,10,15],\n",
    "#     'eta':[0.001, 0.01,0.1,1],\n",
    "#     'gamma':[0,0.1,1,2,5]\n",
    "# }\n",
    "# grid_model =gridsearchfn(x_train ,y_train,model ,paramgrid ,cv =5 ,scoring_fit = 'precision')"
   ]
  },
  {
   "cell_type": "code",
   "execution_count": 43,
   "metadata": {
    "execution": {
     "iopub.execute_input": "2021-05-25T17:25:54.943968Z",
     "iopub.status.busy": "2021-05-25T17:25:54.943426Z",
     "iopub.status.idle": "2021-05-25T17:25:55.319702Z",
     "shell.execute_reply": "2021-05-25T17:25:55.318458Z",
     "shell.execute_reply.started": "2021-05-25T17:25:54.943926Z"
    }
   },
   "outputs": [
    {
     "ename": "NameError",
     "evalue": "name 'grid_model' is not defined",
     "output_type": "error",
     "traceback": [
      "\u001b[0;31m---------------------------------------------------------------------------\u001b[0m",
      "\u001b[0;31mNameError\u001b[0m                                 Traceback (most recent call last)",
      "\u001b[0;32m<ipython-input-43-e5708b38a1aa>\u001b[0m in \u001b[0;36m<module>\u001b[0;34m\u001b[0m\n\u001b[1;32m      1\u001b[0m \u001b[0;31m# summarize result\u001b[0m\u001b[0;34m\u001b[0m\u001b[0;34m\u001b[0m\u001b[0;34m\u001b[0m\u001b[0m\n\u001b[0;32m----> 2\u001b[0;31m \u001b[0mprint\u001b[0m\u001b[0;34m(\u001b[0m\u001b[0;34m'Best Score: %s'\u001b[0m \u001b[0;34m%\u001b[0m \u001b[0mgrid_model\u001b[0m\u001b[0;34m.\u001b[0m\u001b[0mbest_score_\u001b[0m\u001b[0;34m)\u001b[0m\u001b[0;34m\u001b[0m\u001b[0;34m\u001b[0m\u001b[0m\n\u001b[0m\u001b[1;32m      3\u001b[0m \u001b[0mprint\u001b[0m\u001b[0;34m(\u001b[0m\u001b[0;34m'Best Hyperparameters: %s'\u001b[0m \u001b[0;34m%\u001b[0m \u001b[0mgrid_model\u001b[0m\u001b[0;34m.\u001b[0m\u001b[0mbest_params_\u001b[0m\u001b[0;34m)\u001b[0m\u001b[0;34m\u001b[0m\u001b[0;34m\u001b[0m\u001b[0m\n",
      "\u001b[0;31mNameError\u001b[0m: name 'grid_model' is not defined"
     ]
    }
   ],
   "source": [
    "# # summarize result\n",
    "# print('Best Score: %s' % grid_model.best_score_)\n",
    "# print('Best Hyperparameters: %s' % grid_model.best_params_)"
   ]
  },
  {
   "cell_type": "code",
   "execution_count": 46,
   "metadata": {
    "execution": {
     "iopub.execute_input": "2021-05-25T17:29:05.666713Z",
     "iopub.status.busy": "2021-05-25T17:29:05.666288Z",
     "iopub.status.idle": "2021-05-25T17:29:07.419536Z",
     "shell.execute_reply": "2021-05-25T17:29:07.418362Z",
     "shell.execute_reply.started": "2021-05-25T17:29:05.666680Z"
    }
   },
   "outputs": [
    {
     "name": "stderr",
     "output_type": "stream",
     "text": [
      "/opt/conda/lib/python3.7/site-packages/xgboost/sklearn.py:1146: UserWarning: The use of label encoder in XGBClassifier is deprecated and will be removed in a future release. To remove this warning, do the following: 1) Pass option use_label_encoder=False when constructing XGBClassifier object; and 2) Encode your labels (y) as integers starting with 0, i.e. 0, 1, 2, ..., [num_class - 1].\n",
      "  warnings.warn(label_encoder_deprecation_msg, UserWarning)\n"
     ]
    },
    {
     "name": "stdout",
     "output_type": "stream",
     "text": [
      "[17:29:07] WARNING: ../src/learner.cc:1095: Starting in XGBoost 1.3.0, the default evaluation metric used with the objective 'binary:logistic' was changed from 'error' to 'logloss'. Explicitly set eval_metric if you'd like to restore the old behavior.\n",
      "              precision    recall  f1-score   support\n",
      "\n",
      "           0       0.89      0.97      0.93      2427\n",
      "           1       0.68      0.33      0.44       442\n",
      "\n",
      "    accuracy                           0.87      2869\n",
      "   macro avg       0.79      0.65      0.68      2869\n",
      "weighted avg       0.86      0.87      0.85      2869\n",
      "\n"
     ]
    }
   ],
   "source": [
    "clf = XGBRFClassifier(eta= 0.001, gamma= 5, max_depth= 10)\n",
    "clf.fit(x_train ,y_train)\n",
    "y_pred = clf.predict(x_test)\n",
    "accuracy_score(y_test,y_pred)\n",
    "confusion_matrix(y_test,y_pred)\n",
    "print(classification_report(y_test,y_pred))"
   ]
  },
  {
   "cell_type": "code",
   "execution_count": 47,
   "metadata": {
    "execution": {
     "iopub.execute_input": "2021-05-25T17:29:31.855446Z",
     "iopub.status.busy": "2021-05-25T17:29:31.854843Z",
     "iopub.status.idle": "2021-05-25T17:29:31.865032Z",
     "shell.execute_reply": "2021-05-25T17:29:31.864230Z",
     "shell.execute_reply.started": "2021-05-25T17:29:31.855412Z"
    }
   },
   "outputs": [
    {
     "data": {
      "text/plain": [
       "array([[2360,   67],\n",
       "       [ 298,  144]])"
      ]
     },
     "execution_count": 47,
     "metadata": {},
     "output_type": "execute_result"
    }
   ],
   "source": [
    "confusion_matrix(y_test,y_pred)"
   ]
  },
  {
   "cell_type": "code",
   "execution_count": 54,
   "metadata": {
    "execution": {
     "iopub.execute_input": "2021-05-25T17:40:17.355649Z",
     "iopub.status.busy": "2021-05-25T17:40:17.355149Z",
     "iopub.status.idle": "2021-05-25T17:40:18.018184Z",
     "shell.execute_reply": "2021-05-25T17:40:18.017293Z",
     "shell.execute_reply.started": "2021-05-25T17:40:17.355604Z"
    }
   },
   "outputs": [
    {
     "name": "stdout",
     "output_type": "stream",
     "text": [
      "None\n",
      "Confusion matrix, without normalization\n",
      "[[2360   67]\n",
      " [ 298  144]]\n",
      "true\n",
      "Normalized confusion matrix\n",
      "[[2360   67]\n",
      " [ 298  144]]\n"
     ]
    },
    {
     "data": {
      "image/png": "[encoded data removed]",
      "text/plain": [
       "<Figure size 432x288 with 2 Axes>"
      ]
     },
     "metadata": {
      "needs_background": "light"
     },
     "output_type": "display_data"
    },
    {
     "data": {
      "image/png": "[encoded data removed]",
      "text/plain": [
       "<Figure size 432x288 with 2 Axes>"
      ]
     },
     "metadata": {
      "needs_background": "light"
     },
     "output_type": "display_data"
    }
   ],
   "source": [
    "from sklearn.metrics import plot_confusion_matrix\n",
    "titles_options = [(\"Confusion matrix, without normalization\", None),\n",
    "                  (\"Normalized confusion matrix\", 'true')]\n",
    "for title, normalize in titles_options:\n",
    "    print(normalize)\n",
    "    disp = plot_confusion_matrix(clf, x_test, y_test,\n",
    "                                 cmap=plt.cm.Blues,\n",
    "                                 normalize=None)\n",
    "    disp.ax_.set_title(title)\n",
    "\n",
    "    print(title)\n",
    "    print(disp.confusion_matrix)\n",
    "\n",
    "plt.show()"
   ]
  },
  {
   "cell_type": "code",
   "execution_count": 56,
   "metadata": {
    "execution": {
     "iopub.execute_input": "2021-05-25T17:42:55.511719Z",
     "iopub.status.busy": "2021-05-25T17:42:55.511297Z",
     "iopub.status.idle": "2021-05-25T17:42:55.607766Z",
     "shell.execute_reply": "2021-05-25T17:42:55.606701Z",
     "shell.execute_reply.started": "2021-05-25T17:42:55.511684Z"
    }
   },
   "outputs": [],
   "source": [
    "# save the model to disk\n",
    "import pickle\n",
    "filename = 'XGB_model.sav'\n",
    "pickle.dump(clf, open(filename, 'wb'))\n"
   ]
  },
  {
   "cell_type": "code",
   "execution_count": 57,
   "metadata": {
    "execution": {
     "iopub.execute_input": "2021-05-25T17:43:15.167379Z",
     "iopub.status.busy": "2021-05-25T17:43:15.167002Z",
     "iopub.status.idle": "2021-05-25T17:43:15.291690Z",
     "shell.execute_reply": "2021-05-25T17:43:15.290683Z",
     "shell.execute_reply.started": "2021-05-25T17:43:15.167343Z"
    }
   },
   "outputs": [
    {
     "name": "stdout",
     "output_type": "stream",
     "text": [
      "0.8727779714186128\n"
     ]
    }
   ],
   "source": [
    "# load the model from disk\n",
    "loaded_model = pickle.load(open(filename, 'rb'))\n",
    "result = loaded_model.score(x_test, y_test)\n",
    "print(result)"
   ]
  },
  {
   "cell_type": "code",
   "execution_count": null,
   "metadata": {},
   "outputs": [],
   "source": []
  }
 ],
 "metadata": {
  "kernelspec": {
   "display_name": "Python 3",
   "language": "python",
   "name": "python3"
  },
  "language_info": {
   "codemirror_mode": {
    "name": "ipython",
    "version": 3
   },
   "file_extension": ".py",
   "mimetype": "text/x-python",
   "name": "python",
   "nbconvert_exporter": "python",
   "pygments_lexer": "ipython3",
   "version": "3.8.5"
  }
 },
 "nbformat": 4,
 "nbformat_minor": 4
}
